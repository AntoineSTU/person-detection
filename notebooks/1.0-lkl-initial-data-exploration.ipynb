{
 "cells": [
  {
   "cell_type": "code",
   "execution_count": 1,
   "metadata": {},
   "outputs": [],
   "source": [
    "import pandas as pd"
   ]
  },
  {
   "cell_type": "code",
   "execution_count": 97,
   "metadata": {},
   "outputs": [
    {
     "data": {
      "text/plain": [
       "array(['nature; outdoor', 'buildings; outdoor', 'outdoor; people',\n",
       "       'objects; outdoor', 'Indoor', 'landscape; outdoor', 'outdoor',\n",
       "       'Indoor; buildings', 'Indoor; objects',\n",
       "       'buildings; landscape; outdoor', 'Indoor; people',\n",
       "       'buildings; outdoor; people', 'buildings; objects; outdoor',\n",
       "       'buildings; landscape; outdoor; people',\n",
       "       'Indoor; buildings; people', 'landscape; outdoor; people',\n",
       "       'objects; outdoor; people', 'nature; objects; outdoor',\n",
       "       'Indoor; objects; people', 'buildings; objects; outdoor; people',\n",
       "       'Indoor; nature', 'nature; outdoor; people',\n",
       "       'landscape; nature; outdoor', 'Indoor; buildings; objects'],\n",
       "      dtype=object)"
      ]
     },
     "execution_count": 97,
     "metadata": {},
     "output_type": "execute_result"
    }
   ],
   "source": [
    "images_1k = pd.read_csv(\"RAISE_1k.csv\")\n",
    "label_1k = images_1k.Keywords\n",
    "label_1k.unique()"
   ]
  },
  {
   "cell_type": "markdown",
   "metadata": {},
   "source": [
    "## Distribution Keywords"
   ]
  },
  {
   "cell_type": "code",
   "execution_count": 98,
   "metadata": {
    "jupyter": {
     "source_hidden": true
    }
   },
   "outputs": [],
   "source": [
    "# Explore distrubution keywords images\n",
    "nature, outdoor, buildings, objects, landscape, indoor, people = 0,0,0,0,0,0,0\n",
    "nature_people, outdoor_people, buildings_people, objects_people, landscape_people, indoor_people = 0,0,0,0,0,0\n",
    "for keywords_image in label_1k:\n",
    "    \n",
    "    # Delete whitespace\n",
    "    keywords_image = keywords_image.replace(\" \", \"\")\n",
    "    # Divide Keywords in two words\n",
    "    keyword_split = keywords_image.split(\";\")\n",
    "    \n",
    "    #Count distribution of images\n",
    "    for keyword_image in keyword_split:\n",
    "\n",
    "        if keyword_image == \"nature\":\n",
    "            nature+=1 \n",
    "        if keyword_image == \"outdoor\":\n",
    "            outdoor+=1   \n",
    "        if keyword_image == \"buildings\":\n",
    "            buildings+=1 \n",
    "        if keyword_image == \"objects\":\n",
    "            objects+=1 \n",
    "        if keyword_image == \"landscape\":\n",
    "            landscape+=1 \n",
    "        if keyword_image == \"Indoor\":\n",
    "            indoor+=1\n",
    "        if keyword_image == \"people\":\n",
    "            people+=1 \n",
    "            \n",
    "            # Distribution images with people \n",
    "            for keyword_people in keyword_split:\n",
    "                if keyword_people == \"nature\":\n",
    "                    nature_people+=1\n",
    "                if keyword_people == \"outdoor\":\n",
    "                    outdoor_people+=1   \n",
    "                if keyword_people == \"buildings\":\n",
    "                    buildings_people+=1 \n",
    "                if keyword_people == \"objects\":\n",
    "                    objects_people+=1 \n",
    "                if keyword_people == \"landscape\":\n",
    "                    landscape_people+=1 \n",
    "                if keyword_people == \"Indoor\":\n",
    "                    indoor_people+=1 "
   ]
  },
  {
   "cell_type": "code",
   "execution_count": 99,
   "metadata": {},
   "outputs": [],
   "source": [
    "keywords_array = [\"Nature\", \"Outdoor\", \"Buildings\", \"Objects\", \"Landscape\", \"Indoor\", \"People\"]\n",
    "values_array = [nature, outdoor, buildings, objects, landscape, indoor, people]\n",
    "\n",
    "people_array =[\"Nature\", \"Outdoor\", \"Buildings\", \"Objects\", \"Landscape\", \"Indoor\"]\n",
    "people_values = [nature_people, outdoor_people, buildings_people, objects_people, landscape_people, indoor_people]"
   ]
  },
  {
   "cell_type": "code",
   "execution_count": 111,
   "metadata": {},
   "outputs": [
    {
     "data": {
      "image/png": "[encoded data removed]",
      "text/plain": [
       "<Figure size 576x432 with 1 Axes>"
      ]
     },
     "metadata": {
      "needs_background": "light"
     },
     "output_type": "display_data"
    }
   ],
   "source": [
    "# Plot results\n",
    "import matplotlib.pyplot as plt\n",
    "\n",
    "plt.figure( figsize= (8,6))\n",
    "plt.bar(keywords_array, values_array)\n",
    "plt.title(\"Distribution Keywords\", fontsize = 14)\n",
    "plt.xlabel(\"Keywords\", fontsize = 12)\n",
    "plt.grid(True)\n",
    "plt.show()"
   ]
  },
  {
   "cell_type": "code",
   "execution_count": 115,
   "metadata": {},
   "outputs": [
    {
     "data": {
      "image/png": "[encoded data removed]",
      "text/plain": [
       "<Figure size 576x432 with 1 Axes>"
      ]
     },
     "metadata": {
      "needs_background": "light"
     },
     "output_type": "display_data"
    }
   ],
   "source": [
    "plt.figure(figsize = (8,6))\n",
    "plt.bar(people_array, people_values)\n",
    "plt.title(\"People + ?\", fontsize = 14)\n",
    "plt.xlabel(\"Keywords\", fontsize = 12)\n",
    "plt.grid(True)\n",
    "plt.show()"
   ]
  },
  {
   "cell_type": "markdown",
   "metadata": {},
   "source": [
    "## Size Images"
   ]
  },
  {
   "cell_type": "code",
   "execution_count": 120,
   "metadata": {},
   "outputs": [],
   "source": [
    "size_1k = images_1k[\"Image Size\"]\n",
    "sizes_images = size_1k.unique()"
   ]
  },
  {
   "cell_type": "code",
   "execution_count": 122,
   "metadata": {},
   "outputs": [],
   "source": [
    "# Count distribution sizes \n",
    "a,b,c = 0,0,0\n",
    "for size_image in size_1k:\n",
    "    if size_image == sizes_images[0]:\n",
    "        a+=1\n",
    "    if size_image == sizes_images[1]:\n",
    "        b+=1\n",
    "    if size_image == sizes_images[2]:\n",
    "        c+=1"
   ]
  },
  {
   "cell_type": "code",
   "execution_count": 125,
   "metadata": {},
   "outputs": [],
   "source": [
    "sizes_array = [\"(4288 x 2848)\", \"(4928 x 3264)\", \"(3008 x 2000)\"]\n",
    "sizes_distribution = [a,b,c]"
   ]
  },
  {
   "cell_type": "code",
   "execution_count": 129,
   "metadata": {},
   "outputs": [
    {
     "data": {
      "image/png": "[encoded data removed]",
      "text/plain": [
       "<Figure size 432x288 with 1 Axes>"
      ]
     },
     "metadata": {
      "needs_background": "light"
     },
     "output_type": "display_data"
    }
   ],
   "source": [
    "plt.figure(figsize = (6,4))\n",
    "plt.bar(sizes_array, sizes_distribution)\n",
    "plt.title(\"Distribution Size Images\", fontsize = 14)\n",
    "plt.xlabel(\"Size\", fontsize = 14)\n",
    "plt.grid(True)\n",
    "plt.show()"
   ]
  },
  {
   "cell_type": "code",
   "execution_count": null,
   "metadata": {},
   "outputs": [],
   "source": []
  }
 ],
 "metadata": {
  "kernelspec": {
   "display_name": "Python 3",
   "language": "python",
   "name": "python3"
  },
  "language_info": {
   "codemirror_mode": {
    "name": "ipython",
    "version": 3
   },
   "file_extension": ".py",
   "mimetype": "text/x-python",
   "name": "python",
   "nbconvert_exporter": "python",
   "pygments_lexer": "ipython3",
   "version": "3.8.5"
  }
 },
 "nbformat": 4,
 "nbformat_minor": 4
}
